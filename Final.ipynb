{
 "cells": [
  {
   "cell_type": "code",
   "execution_count": 150,
   "metadata": {},
   "outputs": [],
   "source": [
    "import re\n",
    "import pandas as pd\n",
    "import numpy as np\n",
    "import pickle\n",
    "import streamlit as st\n",
    "from scipy import stats\n",
    "from sklearn.ensemble import RandomForestClassifier\n",
    "from sklearn.neighbors import KNeighborsClassifier\n",
    "\n",
    "from sklearn.linear_model import LogisticRegression\n",
    "from sklearn.model_selection import train_test_split\n",
    "\n",
    "import plotly.express as px\n",
    "import matplotlib.pyplot as plt\n",
    "from sklearn.preprocessing import LabelEncoder\n",
    "\n",
    "from sklearn.model_selection import train_test_split\n",
    "from sklearn.metrics import accuracy_score,f1_score,precision_score,recall_score\n",
    "from PIL import Image,ImageFilter,ImageEnhance,ImageOps\n",
    "from sklearn.svm import SVC\n",
    "from sklearn.feature_extraction.text import TfidfVectorizer\n",
    "from sklearn.metrics.pairwise import cosine_similarity\n",
    "\n",
    "\n",
    "import pickle"
   ]
  },
  {
   "cell_type": "code",
   "execution_count": 46,
   "metadata": {},
   "outputs": [],
   "source": [
    "def recommd(product_data, name):\n",
    "    # Assuming you have a recommendation matrix for products (similar to \"recommend.csv\" for courses)\n",
    "    item_matrix = pd.read_csv(\"recommend.csv\")  # Update with the actual file name\n",
    "\n",
    "    # Map product names to their corresponding labels or IDs\n",
    "    product_labels = []\n",
    "    for j in name:\n",
    "        matches = product_data[product_data[\"product_name\"] == j]\n",
    "        if not matches.empty:\n",
    "            product_labels.append(matches[\"product_id\"].values[0])\n",
    "\n",
    "    # Recommend products based on the item_matrix\n",
    "    recommended_products = []\n",
    "    for label in product_labels:\n",
    "        recommended_products.append(list(item_matrix.loc[int(label)].sort_values(ascending=False).iloc[:20].index))\n",
    "\n",
    "    # Collect product information for each recommendation\n",
    "    recommendations_info = []\n",
    "    for recommendations, product_name in zip(recommended_products, name):\n",
    "        for product_label in recommendations:\n",
    "            recommendations_info.append({\n",
    "                # (Your existing code to collect product information)\n",
    "            })\n",
    "\n",
    "    recommendations_df = pd.DataFrame(recommendations_info)\n",
    "    return recommendations_df\n",
    "\n",
    "\n"
   ]
  },
  {
   "cell_type": "code",
   "execution_count": 42,
   "metadata": {},
   "outputs": [],
   "source": [
    "data = pd.read_csv('recommend.csv')"
   ]
  },
  {
   "cell_type": "code",
   "execution_count": 43,
   "metadata": {},
   "outputs": [
    {
     "name": "stdout",
     "output_type": "stream",
     "text": [
      "   product_id                                       product_name  \\\n",
      "0  B07JW9H4J1  Wayona Nylon Braided USB to Lightning Fast Cha...   \n",
      "1  B098NS6PVG  Ambrane Unbreakable 60W / 3A Fast Charging 1.5...   \n",
      "2  B096MSW6CT  Sounce Fast Phone Charging Cable & Data Sync U...   \n",
      "3  B08HDJ86NZ  boAt Deuce USB 300 2 in 1 Type-C & Micro USB S...   \n",
      "4  B08CF3B7N1  Portronics Konnect L 1.2M Fast Charging 3A 8 P...   \n",
      "\n",
      "                                            category discounted_price  \\\n",
      "0  Computers&Accessories|Accessories&Peripherals|...             ₹399   \n",
      "1  Computers&Accessories|Accessories&Peripherals|...             ₹199   \n",
      "2  Computers&Accessories|Accessories&Peripherals|...             ₹199   \n",
      "3  Computers&Accessories|Accessories&Peripherals|...             ₹329   \n",
      "4  Computers&Accessories|Accessories&Peripherals|...             ₹154   \n",
      "\n",
      "  actual_price discount_percentage rating rating_count  \\\n",
      "0       ₹1,099                 64%    4.2       24,269   \n",
      "1         ₹349                 43%    4.0       43,994   \n",
      "2       ₹1,899                 90%    3.9        7,928   \n",
      "3         ₹699                 53%    4.2       94,363   \n",
      "4         ₹399                 61%    4.2       16,905   \n",
      "\n",
      "                                       about_product  \\\n",
      "0  High Compatibility : Compatible With iPhone 12...   \n",
      "1  Compatible with all Type C enabled devices, be...   \n",
      "2  【 Fast Charger& Data Sync】-With built-in safet...   \n",
      "3  The boAt Deuce USB 300 2 in 1 cable is compati...   \n",
      "4  [CHARGE & SYNC FUNCTION]- This cable comes wit...   \n",
      "\n",
      "                                             user_id  \\\n",
      "0  AG3D6O4STAQKAY2UVGEUV46KN35Q,AHMY5CWJMMK5BJRBB...   \n",
      "1  AECPFYFQVRUWC3KGNLJIOREFP5LQ,AGYYVPDD7YG7FYNBX...   \n",
      "2  AGU3BBQ2V2DDAMOAKGFAWDDQ6QHA,AESFLDV2PT363T2AQ...   \n",
      "3  AEWAZDZZJLQUYVOVGBEUKSLXHQ5A,AG5HTSFRRE6NL3M5S...   \n",
      "4  AE3Q6KSUK5P75D5HFYHCRAOLODSA,AFUGIFH5ZAFXRDSZH...   \n",
      "\n",
      "                                           user_name  \\\n",
      "0  Manav,Adarsh gupta,Sundeep,S.Sayeed Ahmed,jasp...   \n",
      "1  ArdKn,Nirbhay kumar,Sagar Viswanathan,Asp,Plac...   \n",
      "2  Kunal,Himanshu,viswanath,sai niharka,saqib mal...   \n",
      "3  Omkar dhale,JD,HEMALATHA,Ajwadh a.,amar singh ...   \n",
      "4  rahuls6099,Swasat Borah,Ajay Wadke,Pranali,RVK...   \n",
      "\n",
      "                                           review_id  \\\n",
      "0  R3HXWT0LRP0NMF,R2AJM3LFTLZHFO,R6AQJGUP6P86,R1K...   \n",
      "1  RGIQEG07R9HS2,R1SMWZQ86XIN8U,R2J3Y1WL29GWDE,RY...   \n",
      "2  R3J3EQQ9TZI5ZJ,R3E7WBGK7ID0KV,RWU79XKQ6I1QF,R2...   \n",
      "3  R3EEUZKKK9J36I,R3HJVYCLYOY554,REDECAZ7AMPQC,R1...   \n",
      "4  R1BP4L2HH9TFUP,R16PVJEXKV6QZS,R2UPDB81N66T4P,R...   \n",
      "\n",
      "                                        review_title  \\\n",
      "0  Satisfied,Charging is really fast,Value for mo...   \n",
      "1  A Good Braided Cable for Your Type C Device,Go...   \n",
      "2  Good speed for earlier versions,Good Product,W...   \n",
      "3  Good product,Good one,Nice,Really nice product...   \n",
      "4  As good as original,Decent,Good one for second...   \n",
      "\n",
      "                                      review_content  \\\n",
      "0  Looks durable Charging is fine tooNo complains...   \n",
      "1  I ordered this cable to connect my phone to An...   \n",
      "2  Not quite durable and sturdy,https://m.media-a...   \n",
      "3  Good product,long wire,Charges good,Nice,I bou...   \n",
      "4  Bought this instead of original apple, does th...   \n",
      "\n",
      "                                            img_link  \\\n",
      "0  https://m.media-amazon.com/images/W/WEBP_40237...   \n",
      "1  https://m.media-amazon.com/images/W/WEBP_40237...   \n",
      "2  https://m.media-amazon.com/images/W/WEBP_40237...   \n",
      "3  https://m.media-amazon.com/images/I/41V5FtEWPk...   \n",
      "4  https://m.media-amazon.com/images/W/WEBP_40237...   \n",
      "\n",
      "                                        product_link  \n",
      "0  https://www.amazon.in/Wayona-Braided-WN3LG1-Sy...  \n",
      "1  https://www.amazon.in/Ambrane-Unbreakable-Char...  \n",
      "2  https://www.amazon.in/Sounce-iPhone-Charging-C...  \n",
      "3  https://www.amazon.in/Deuce-300-Resistant-Tang...  \n",
      "4  https://www.amazon.in/Portronics-Konnect-POR-1...  \n",
      "<class 'pandas.core.frame.DataFrame'>\n",
      "RangeIndex: 1465 entries, 0 to 1464\n",
      "Data columns (total 16 columns):\n",
      " #   Column               Non-Null Count  Dtype \n",
      "---  ------               --------------  ----- \n",
      " 0   product_id           1465 non-null   object\n",
      " 1   product_name         1465 non-null   object\n",
      " 2   category             1465 non-null   object\n",
      " 3   discounted_price     1465 non-null   object\n",
      " 4   actual_price         1465 non-null   object\n",
      " 5   discount_percentage  1465 non-null   object\n",
      " 6   rating               1465 non-null   object\n",
      " 7   rating_count         1463 non-null   object\n",
      " 8   about_product        1465 non-null   object\n",
      " 9   user_id              1465 non-null   object\n",
      " 10  user_name            1465 non-null   object\n",
      " 11  review_id            1465 non-null   object\n",
      " 12  review_title         1465 non-null   object\n",
      " 13  review_content       1465 non-null   object\n",
      " 14  img_link             1465 non-null   object\n",
      " 15  product_link         1465 non-null   object\n",
      "dtypes: object(16)\n",
      "memory usage: 183.3+ KB\n",
      "None\n"
     ]
    }
   ],
   "source": [
    "print(data.head()) \n",
    "print(data.info()) "
   ]
  },
  {
   "cell_type": "code",
   "execution_count": 81,
   "metadata": {},
   "outputs": [],
   "source": [
    "def zero_preprocessing(cls_data):\n",
    "    cls_data1=cls_data.copy()\n",
    "    zero=[]\n",
    "    for z in cls_data1.columns:\n",
    "        value=((cls_data1[z]==0).mean()*100).round(2)\n",
    "        zero.append(value)\n",
    "    zero_df=pd.DataFrame({\"Column_name\":cls_data1.columns,\"Zero_Percentage\":zero}).sort_values(\"Zero_Percentage\",ascending=False)\n",
    "    col_to_rem=[\"youtube\",\"days_since_last_visit\",\"bounces\",\"totals_newVisits\",\"latest_isTrueDirect\",\n",
    "         \"earliest_isTrueDirect\",\"time_latest_visit\",\"time_earliest_visit\",\"device_isMobile\",\"device_browser\",\"device_operatingSystem\",\"last_visitId\",\"latest_visit_id\",\n",
    "        \"visitId_threshold\",\"earliest_visit_id\",\"earliest_visit_number\",\"latest_visit_number\",\"days_since_first_visit\",\n",
    "      \"earliest_source\",\"latest_source\",\"earliest_medium\",\"latest_medium\",\"earliest_keyword\",\"latest_keyword\",\n",
    "        \"device_deviceCategory\",\"channelGrouping\",\"geoNetwork_region\",\"target_date\",\"bounce_rate\",\"historic_session_page\",\"avg_session_time_page\",\"products_array\"]\n",
    "    cls_data1.drop(col_to_rem,axis=1,inplace=True)\n",
    "    for spar in cls_data1.columns:\n",
    "        me=cls_data1[spar].mean()\n",
    "        if spar==\"has_converted\" or spar==\"transactionRevenue\":\n",
    "            continue\n",
    "        values=[]\n",
    "        for spar_val in cls_data1[spar].values:\n",
    "            if spar_val<=0:\n",
    "                values.append(me)\n",
    "            else:\n",
    "                values.append(spar_val)\n",
    "        cls_data1[spar]=values\n",
    "    zero1=[]\n",
    "    for z in cls_data1.columns:\n",
    "        value=((cls_data1[z]==0).mean()*100).round(2)\n",
    "        zero1.append(value)\n",
    "    zero_df_pre=pd.DataFrame({\"Column_name\":cls_data1.columns,\"Zero_Percentage\":zero1}).sort_values(\"Zero_Percentage\",ascending=False)\n",
    "    return zero_df,zero_df_pre,cls_data1\n",
    "\n",
    "\n",
    "\n",
    "    "
   ]
  },
  {
   "cell_type": "code",
   "execution_count": 82,
   "metadata": {},
   "outputs": [],
   "source": [
    "def outlier(cls_data):\n",
    "    cls_data2=cls_data.copy()\n",
    "    for out in cls_data2.columns:\n",
    "        if out == \"transactionRevenue\":\n",
    "            cls_data2[out]=np.log1p(cls_data2[out])\n",
    "        elif out == \"has_converted\":\n",
    "            continue\n",
    "        else:\n",
    "            cls_data2[out],_=stats.boxcox(cls_data2[out])\n",
    "    return cls_data2\n",
    "    "
   ]
  },
  {
   "cell_type": "code",
   "execution_count": 49,
   "metadata": {},
   "outputs": [],
   "source": [
    "def predict(l,t):\n",
    "    l,_=stats.boxcox(l)\n",
    "    t=np.log1p(t)\n",
    "    li=[]\n",
    "    for i in l:\n",
    "        li.append(i)\n",
    "    li.append(t)\n",
    "    with open(\"log_reg.pkl\",\"rb\") as lg:\n",
    "        lg=pickle.load(lg)\n",
    "    predicted=lg.predict([li])\n",
    "    return predicted"
   ]
  },
  {
   "cell_type": "code",
   "execution_count": 103,
   "metadata": {},
   "outputs": [],
   "source": [
    "# Example synthetic dataset\n",
    "X = np.random.rand(100, 5)  # Features\n",
    "y = np.random.choice([0, 1], size=100)  # Labels\n",
    "\n",
    "# Split the dataset into training and testing sets\n",
    "X_train, X_test, y_train, y_test = train_test_split(X, y, test_size=0.2, random_state=42)\n",
    "\n",
    "# Train the logistic regression model\n",
    "log_reg_model = LogisticRegression()\n",
    "log_reg_model.fit(X_train, y_train)\n",
    "\n",
    "# Save the model as a .pkl file\n",
    "with open(\"log_reg.pkl\", \"wb\") as file:\n",
    "    pickle.dump(log_reg_model, file)"
   ]
  },
  {
   "cell_type": "code",
   "execution_count": 51,
   "metadata": {},
   "outputs": [],
   "source": []
  },
  {
   "cell_type": "code",
   "execution_count": 102,
   "metadata": {},
   "outputs": [],
   "source": [
    "def model_predict(data, tar, model):\n",
    "    # Assuming data is a DataFrame or a 2D array-like structure\n",
    "    # Assuming tar is a 1D array-like structure\n",
    "    train_data, test_data, train_lab, test_lab = train_test_split(data, tar, test_size=0.2, random_state=42)\n",
    "    train_pred = model.predict(train_data)\n",
    "    test_pred = model.predict(test_data)\n",
    "    \n",
    "    train_acc = (accuracy_score(train_lab, train_pred) * 100).round(2)\n",
    "    train_prec = (precision_score(train_lab, train_pred) * 100).round(2)\n",
    "    train_recall = (recall_score(train_lab, train_pred) * 100).round(2)\n",
    "    train_f1 = (f1_score(train_lab, train_pred) * 100).round(2)\n",
    "    \n",
    "    test_acc = (accuracy_score(test_lab, test_pred) * 100).round(2)\n",
    "    test_prec = (precision_score(test_lab, test_pred) * 100).round(2)\n",
    "    test_recall = (recall_score(test_lab, test_pred) * 100).round(2)\n",
    "    test_f1score = (f1_score(test_lab, test_pred) * 100).round(2)\n",
    "    \n",
    "    return train_acc, train_prec, train_recall, train_f1, test_acc, test_prec, test_recall, test_f1score\n"
   ]
  },
  {
   "cell_type": "code",
   "execution_count": 52,
   "metadata": {},
   "outputs": [],
   "source": [
    "def getting_data():\n",
    "    cls_data=pd.read_csv(\"classification_data.csv\")\n",
    "    sh=cls_data.shape\n",
    "    is_null=(cls_data.isnull().mean()*100).round(2)\n",
    "    is_null_df=pd.DataFrame({\"Column_Name\":is_null.index,\"Null_Percentage\":is_null.values}).sort_values(\"Null_Percentage\",ascending=False)\n",
    "    cls_data.drop_duplicates(inplace=True)\n",
    "    sh1=cls_data.shape\n",
    "    des=cls_data.describe()\n",
    "    zero_df,zerodf_pre,cls_data1=zero_preprocessing(cls_data)\n",
    "    return sh,sh1,des,is_null_df,zero_df,zerodf_pre,cls_data1"
   ]
  },
  {
   "cell_type": "code",
   "execution_count": 55,
   "metadata": {},
   "outputs": [],
   "source": [
    "def image_details(img):\n",
    "    f=img.format\n",
    "    h=img.size[0]\n",
    "    w=img.size[1]\n",
    "    arr=np.array(img)\n",
    "    arr_size=arr.shape\n",
    "    m=img.mode\n",
    "    return f,h,w,arr,arr_size,m"
   ]
  },
  {
   "cell_type": "code",
   "execution_count": null,
   "metadata": {},
   "outputs": [],
   "source": [
    "ran_class=RandomForestClassifier(n_estimators=20,random_state=44)\n",
    "over_data=cls_data2\n",
    "over_tar=cls_data1['has_converted']\n",
    "ran_class.fit(over_data,over_tar)\n",
    "val=ran_class.feature_importances_*100\n",
    "feature_df=pd.DataFrame({\"Columns\":over_data.columns,\"Feature_percentage\":val}).sort_values(\"Feature_percentage\",ascending=False)\n",
    "st.dataframe(feature_df)\n",
    "over_data.drop([\"sessionQualityDim\",\"avg_visit_time\",\"geoNetwork_longitude\",\"geoNetwork_latitude\"],axis=1,inplace=True)\n",
    "print(feature_df)\n"
   ]
  },
  {
   "cell_type": "code",
   "execution_count": 88,
   "metadata": {},
   "outputs": [],
   "source": [
    "X_train, X_test, y_train, y_test = train_test_split(X, y, test_size=0.2, random_state=42)\n",
    "\n",
    "# Initialize an SVM model\n",
    "svm_model = SVC(kernel='linear')  # You can choose the appropriate kernel based on your data\n",
    "\n",
    "# Train the SVM model\n",
    "svm_model.fit(X_train, y_train)\n",
    "\n",
    "# Save the trained SVM model as a .pkl file\n",
    "with open(\"svm_model.pkl\", \"wb\") as file:\n",
    "    pickle.dump(svm_model, file)"
   ]
  },
  {
   "cell_type": "code",
   "execution_count": 110,
   "metadata": {},
   "outputs": [],
   "source": [
    "X_train, X_test, y_train, y_test = train_test_split(X, y, test_size=0.2, random_state=42)\n",
    "\n",
    "# Initialize an knn model\n",
    "knn_model = KNeighborsClassifier(n_neighbors=5)\n",
    "\n",
    "knn_model.fit(X_train, y_train)\n",
    "\n",
    "# Save the trained KNN model as a .pkl file\n",
    "with open(\"knn_model.pkl\", \"wb\") as file:\n",
    "    pickle.dump(knn_model, file)\n",
    "    \n",
    "with open(\"knn_model.pkl\", \"rb\") as lg:\n",
    "    knn_model = pickle.load(lg)"
   ]
  },
  {
   "cell_type": "code",
   "execution_count": 108,
   "metadata": {},
   "outputs": [],
   "source": [
    "X = np.random.rand(100, 5)  # Features\n",
    "y = np.random.choice([0, 1], size=100)  # Labels\n",
    "\n",
    "# Split the dataset into training and testing sets\n",
    "X_train, X_test, y_train, y_test = train_test_split(X, y, test_size=0.2, random_state=42)\n",
    "\n",
    "# Initialize a Logistic Regression model\n",
    "log_reg_model = LogisticRegression()\n",
    "\n",
    "# Train the Logistic Regression model\n",
    "log_reg_model.fit(X_train, y_train)\n",
    "\n",
    "# Save the trained Logistic Regression model as a .pkl file\n",
    "with open(\"log_reg.pkl\", \"wb\") as file:\n",
    "    pickle.dump(log_reg_model, file)"
   ]
  },
  {
   "cell_type": "code",
   "execution_count": 109,
   "metadata": {},
   "outputs": [
    {
     "name": "stdout",
     "output_type": "stream",
     "text": [
      "                Accuracy  Precision  Recall  F1 Score\n",
      "Training Score      62.5      63.16   60.00     61.54\n",
      "Testing Score       65.0      58.33   77.78     66.67\n"
     ]
    }
   ],
   "source": [
    "# Load the log model from the file\n",
    "with open(\"log_reg.pkl\", \"wb\") as file:\n",
    "    pickle.dump(log_reg_model, file)\n",
    "\n",
    "# Assuming you have the necessary data loaded (X_train, X_test, y_train, y_test)\n",
    "# Make predictions using the loaded log model\n",
    "train_acc, train_prec, train_recall, train_f1, test_acc, test_prec, test_recall, test_f1score = model_predict(X, y, log_reg_model)\n",
    "\n",
    "# Display the performance metrics\n",
    "score_df1 = pd.DataFrame(\n",
    "    {\n",
    "        \"Accuracy\": [train_acc, test_acc],\n",
    "        \"Precision\": [train_prec, test_prec],\n",
    "        \"Recall\": [train_recall, test_recall],\n",
    "        \"F1 Score\": [train_f1, test_f1score],\n",
    "    },\n",
    "    index=[\"Training Score\", \"Testing Score\"]\n",
    ")\n",
    "\n",
    "print(score_df1)\n"
   ]
  },
  {
   "cell_type": "code",
   "execution_count": 89,
   "metadata": {},
   "outputs": [
    {
     "name": "stdout",
     "output_type": "stream",
     "text": [
      "                Accuracy  Precision  Recall  F1 Score\n",
      "Training Score      55.0      53.12   44.74     48.57\n",
      "Testing Score       40.0      33.33   50.00     40.00\n"
     ]
    }
   ],
   "source": [
    "# Load the SVM model from the file\n",
    "with open(\"svm_model.pkl\", \"rb\") as file:\n",
    "    svm_model = pickle.load(file)\n",
    "\n",
    "# Assuming you have the necessary data loaded (X_train, X_test, y_train, y_test)\n",
    "# Make predictions using the loaded SVM model\n",
    "train_acc, train_prec, train_recall, train_f1, test_acc, test_prec, test_recall, test_f1score = model_predict(X, y, svm_model)\n",
    "\n",
    "# Display the performance metrics\n",
    "score_df = pd.DataFrame(\n",
    "    {\n",
    "        \"Accuracy\": [train_acc, test_acc],\n",
    "        \"Precision\": [train_prec, test_prec],\n",
    "        \"Recall\": [train_recall, test_recall],\n",
    "        \"F1 Score\": [train_f1, test_f1score],\n",
    "    },\n",
    "    index=[\"Training Score\", \"Testing Score\"]\n",
    ")\n",
    "\n",
    "print(score_df)\n",
    "\n"
   ]
  },
  {
   "cell_type": "code",
   "execution_count": 111,
   "metadata": {},
   "outputs": [
    {
     "name": "stdout",
     "output_type": "stream",
     "text": [
      "                Accuracy  Precision  Recall  F1 Score\n",
      "Training Score     76.25      81.82   67.50     73.97\n",
      "Testing Score      60.00      55.56   55.56     55.56\n"
     ]
    }
   ],
   "source": [
    "# Load the knn model from the file\n",
    "with open(\"knn_model.pkl\", \"wb\") as file:\n",
    "    pickle.dump(knn_model, file)\n",
    "\n",
    "# Assuming you have the necessary data loaded (X_train, X_test, y_train, y_test)\n",
    "# Make predictions using the loaded knn model\n",
    "train_acc, train_prec, train_recall, train_f1, test_acc, test_prec, test_recall, test_f1score = model_predict(X, y, knn_model)\n",
    "\n",
    "# Display the performance metrics\n",
    "score_df2 = pd.DataFrame(\n",
    "    {\n",
    "        \"Accuracy\": [train_acc, test_acc],\n",
    "        \"Precision\": [train_prec, test_prec],\n",
    "        \"Recall\": [train_recall, test_recall],\n",
    "        \"F1 Score\": [train_f1, test_f1score],\n",
    "    },\n",
    "    index=[\"Training Score\", \"Testing Score\"]\n",
    ")\n",
    "print(score_df2)\n",
    "\n"
   ]
  },
  {
   "cell_type": "code",
   "execution_count": 113,
   "metadata": {},
   "outputs": [
    {
     "name": "stdout",
     "output_type": "stream",
     "text": [
      "                Accuracy  Precision  Recall  F1 Score\n",
      "Training Score     76.25      81.82   67.50     73.97\n",
      "Testing Score      60.00      55.56   55.56     55.56\n"
     ]
    }
   ],
   "source": [
    "with open(\"log_reg.pkl\", \"rb\") as lg:\n",
    "    log_reg_model = pickle.load(lg)\n",
    "            \n",
    "# Assuming you have the necessary data loaded (X_train, X_test, y_train, y_test)\n",
    "# Make predictions using the loaded logistic regression model\n",
    "train_acc_log_reg, train_prec_log_reg, train_recall_log_reg, train_f1_log_reg, test_acc_log_reg, test_prec_log_reg, test_recall_log_reg, test_f1score_log_reg = model_predict(X, y, log_reg_model)\n",
    "\n",
    "# Display the performance metrics for logistic regression\n",
    "score_df_log_reg = pd.DataFrame(\n",
    "    {\n",
    "        \"Accuracy\": [train_acc_log_reg, test_acc_log_reg],\n",
    "        \"Precision\": [train_prec_log_reg, test_prec_log_reg],\n",
    "        \"Recall\": [train_recall_log_reg, test_recall_log_reg],\n",
    "        \"F1 Score\": [train_f1_log_reg, test_f1score_log_reg],\n",
    "    },\n",
    "    index=[\"Training Score (Logistic Regression)\", \"Testing Score (Logistic Regression)\"]\n",
    ")\n",
    "print(score_df2)\n",
    "\n"
   ]
  },
  {
   "cell_type": "code",
   "execution_count": null,
   "metadata": {},
   "outputs": [],
   "source": [
    "# Load the SVM model\n",
    "with open(\"svm_model.pkl\", \"rb\") as sv:\n",
    "    svm_model = pickle.load(sv)\n",
    "\n",
    "# Assuming you have the necessary data loaded (X_train, X_test, y_train, y_test)\n",
    "# Make predictions using the loaded SVM model\n",
    "train_acc_svm, train_prec_svm, train_recall_svm, train_f1_svm, test_acc_svm, test_prec_svm, test_recall_svm, test_f1score_svm = model_predict(X, y, svm_model)\n",
    "\n",
    "# Display the performance metrics for SVM\n",
    "score_df_svm = pd.DataFrame(\n",
    "    {\n",
    "        \"Accuracy\": [train_acc_svm, test_acc_svm],\n",
    "        \"Precision\": [train_prec_svm, test_prec_svm],\n",
    "        \"Recall\": [train_recall_svm, test_recall_svm],\n",
    "        \"F1 Score\": [train_f1_svm, test_f1score_svm],\n",
    "    },\n",
    "    index=[\"Training Score (SVM)\", \"Testing Score (SVM)\"]\n",
    ")\n",
    "\n",
    "# Load the KNN model\n",
    "with open(\"knn_model.pkl\", \"rb\") as knn:\n",
    "    knn_model = pickle.load(knn)\n",
    "\n",
    "# Assuming you have the necessary data loaded (X_train, X_test, y_train, y_test)\n",
    "# Make predictions using the loaded KNN model\n",
    "train_acc_knn, train_prec_knn, train_recall_knn, train_f1_knn, test_acc_knn, test_prec_knn, test_recall_knn, test_f1score_knn = model_predict(X, y, knn_model)\n",
    "\n",
    "# Display the performance metrics for KNN\n",
    "score_df_knn = pd.DataFrame(\n",
    "    {\n",
    "        \"Accuracy\": [train_acc_knn, test_acc_knn],\n",
    "        \"Precision\": [train_prec_knn, test_prec_knn],\n",
    "        \"Recall\": [train_recall_knn, test_recall_knn],\n",
    "        \"F1 Score\": [train_f1_knn, test_f1score_knn],\n",
    "    },\n",
    "    index=[\"Training Score (KNN)\", \"Testing Score (KNN)\"]\n",
    ")\n",
    "\n",
    "# Display the performance metrics for all three models\n",
    "combined_score_df = pd.concat([score_df_log_reg, score_df_svm, score_df_knn], axis=0)\n",
    "st.dataframe(combined_score_df)\n"
   ]
  },
  {
   "cell_type": "code",
   "execution_count": 116,
   "metadata": {},
   "outputs": [
    {
     "name": "stdout",
     "output_type": "stream",
     "text": [
      "Index(['product_id', 'product_name', 'category', 'discounted_price',\n",
      "       'actual_price', 'discount_percentage', 'rating', 'rating_count',\n",
      "       'about_product', 'user_id', 'user_name', 'review_id', 'review_title',\n",
      "       'review_content', 'img_link', 'product_link'],\n",
      "      dtype='object')\n"
     ]
    }
   ],
   "source": [
    "# Assuming you have an \"amazon.csv\" dataset with product information\n",
    "amazon_data = pd.read_csv(\"amazon.csv\")\n",
    "amazon_data.drop_duplicates()\n",
    "\n",
    "# Remove leading/trailing whitespaces from column names\n",
    "amazon_data.columns = amazon_data.columns.str.strip()\n",
    "\n",
    "# Check and print updated column names\n",
    "print(amazon_data.columns)\n",
    "\n",
    "\n"
   ]
  },
  {
   "cell_type": "code",
   "execution_count": 118,
   "metadata": {},
   "outputs": [
    {
     "data": {
      "text/plain": [
       "DeltaGenerator()"
      ]
     },
     "execution_count": 118,
     "metadata": {},
     "output_type": "execute_result"
    }
   ],
   "source": [
    "# Update the column name in the transformation\n",
    "le = LabelEncoder()\n",
    "amazon_data[\"product_name_label\"] = le.fit_transform(amazon_data[\"product_name\"])\n",
    "product_names = amazon_data[\"product_name\"].values\n",
    "product_names = list(set(product_names))\n",
    "\n",
    "selected_products = st.multiselect(\"Select any product:\", product_names)\n",
    "\n",
    "\n",
    "recommendations_df = recommd(amazon_data, selected_products)\n",
    "st.dataframe(recommendations_df)"
   ]
  },
  {
   "cell_type": "code",
   "execution_count": 119,
   "metadata": {},
   "outputs": [],
   "source": [
    "df = pd.read_csv(\"amazon.csv\")"
   ]
  },
  {
   "cell_type": "code",
   "execution_count": 120,
   "metadata": {},
   "outputs": [
    {
     "data": {
      "text/html": [
       "<div>\n",
       "<style scoped>\n",
       "    .dataframe tbody tr th:only-of-type {\n",
       "        vertical-align: middle;\n",
       "    }\n",
       "\n",
       "    .dataframe tbody tr th {\n",
       "        vertical-align: top;\n",
       "    }\n",
       "\n",
       "    .dataframe thead th {\n",
       "        text-align: right;\n",
       "    }\n",
       "</style>\n",
       "<table border=\"1\" class=\"dataframe\">\n",
       "  <thead>\n",
       "    <tr style=\"text-align: right;\">\n",
       "      <th></th>\n",
       "      <th>product_id</th>\n",
       "      <th>product_name</th>\n",
       "      <th>category</th>\n",
       "      <th>discounted_price</th>\n",
       "      <th>actual_price</th>\n",
       "      <th>discount_percentage</th>\n",
       "      <th>rating</th>\n",
       "      <th>rating_count</th>\n",
       "      <th>about_product</th>\n",
       "      <th>user_id</th>\n",
       "      <th>user_name</th>\n",
       "      <th>review_id</th>\n",
       "      <th>review_title</th>\n",
       "      <th>review_content</th>\n",
       "      <th>img_link</th>\n",
       "      <th>product_link</th>\n",
       "    </tr>\n",
       "  </thead>\n",
       "  <tbody>\n",
       "    <tr>\n",
       "      <th>0</th>\n",
       "      <td>B07JW9H4J1</td>\n",
       "      <td>Wayona Nylon Braided USB to Lightning Fast Cha...</td>\n",
       "      <td>Computers&amp;Accessories|Accessories&amp;Peripherals|...</td>\n",
       "      <td>₹399</td>\n",
       "      <td>₹1,099</td>\n",
       "      <td>64%</td>\n",
       "      <td>4.2</td>\n",
       "      <td>24,269</td>\n",
       "      <td>High Compatibility : Compatible With iPhone 12...</td>\n",
       "      <td>AG3D6O4STAQKAY2UVGEUV46KN35Q,AHMY5CWJMMK5BJRBB...</td>\n",
       "      <td>Manav,Adarsh gupta,Sundeep,S.Sayeed Ahmed,jasp...</td>\n",
       "      <td>R3HXWT0LRP0NMF,R2AJM3LFTLZHFO,R6AQJGUP6P86,R1K...</td>\n",
       "      <td>Satisfied,Charging is really fast,Value for mo...</td>\n",
       "      <td>Looks durable Charging is fine tooNo complains...</td>\n",
       "      <td>https://m.media-amazon.com/images/W/WEBP_40237...</td>\n",
       "      <td>https://www.amazon.in/Wayona-Braided-WN3LG1-Sy...</td>\n",
       "    </tr>\n",
       "    <tr>\n",
       "      <th>1</th>\n",
       "      <td>B098NS6PVG</td>\n",
       "      <td>Ambrane Unbreakable 60W / 3A Fast Charging 1.5...</td>\n",
       "      <td>Computers&amp;Accessories|Accessories&amp;Peripherals|...</td>\n",
       "      <td>₹199</td>\n",
       "      <td>₹349</td>\n",
       "      <td>43%</td>\n",
       "      <td>4.0</td>\n",
       "      <td>43,994</td>\n",
       "      <td>Compatible with all Type C enabled devices, be...</td>\n",
       "      <td>AECPFYFQVRUWC3KGNLJIOREFP5LQ,AGYYVPDD7YG7FYNBX...</td>\n",
       "      <td>ArdKn,Nirbhay kumar,Sagar Viswanathan,Asp,Plac...</td>\n",
       "      <td>RGIQEG07R9HS2,R1SMWZQ86XIN8U,R2J3Y1WL29GWDE,RY...</td>\n",
       "      <td>A Good Braided Cable for Your Type C Device,Go...</td>\n",
       "      <td>I ordered this cable to connect my phone to An...</td>\n",
       "      <td>https://m.media-amazon.com/images/W/WEBP_40237...</td>\n",
       "      <td>https://www.amazon.in/Ambrane-Unbreakable-Char...</td>\n",
       "    </tr>\n",
       "    <tr>\n",
       "      <th>2</th>\n",
       "      <td>B096MSW6CT</td>\n",
       "      <td>Sounce Fast Phone Charging Cable &amp; Data Sync U...</td>\n",
       "      <td>Computers&amp;Accessories|Accessories&amp;Peripherals|...</td>\n",
       "      <td>₹199</td>\n",
       "      <td>₹1,899</td>\n",
       "      <td>90%</td>\n",
       "      <td>3.9</td>\n",
       "      <td>7,928</td>\n",
       "      <td>【 Fast Charger&amp; Data Sync】-With built-in safet...</td>\n",
       "      <td>AGU3BBQ2V2DDAMOAKGFAWDDQ6QHA,AESFLDV2PT363T2AQ...</td>\n",
       "      <td>Kunal,Himanshu,viswanath,sai niharka,saqib mal...</td>\n",
       "      <td>R3J3EQQ9TZI5ZJ,R3E7WBGK7ID0KV,RWU79XKQ6I1QF,R2...</td>\n",
       "      <td>Good speed for earlier versions,Good Product,W...</td>\n",
       "      <td>Not quite durable and sturdy,https://m.media-a...</td>\n",
       "      <td>https://m.media-amazon.com/images/W/WEBP_40237...</td>\n",
       "      <td>https://www.amazon.in/Sounce-iPhone-Charging-C...</td>\n",
       "    </tr>\n",
       "    <tr>\n",
       "      <th>3</th>\n",
       "      <td>B08HDJ86NZ</td>\n",
       "      <td>boAt Deuce USB 300 2 in 1 Type-C &amp; Micro USB S...</td>\n",
       "      <td>Computers&amp;Accessories|Accessories&amp;Peripherals|...</td>\n",
       "      <td>₹329</td>\n",
       "      <td>₹699</td>\n",
       "      <td>53%</td>\n",
       "      <td>4.2</td>\n",
       "      <td>94,363</td>\n",
       "      <td>The boAt Deuce USB 300 2 in 1 cable is compati...</td>\n",
       "      <td>AEWAZDZZJLQUYVOVGBEUKSLXHQ5A,AG5HTSFRRE6NL3M5S...</td>\n",
       "      <td>Omkar dhale,JD,HEMALATHA,Ajwadh a.,amar singh ...</td>\n",
       "      <td>R3EEUZKKK9J36I,R3HJVYCLYOY554,REDECAZ7AMPQC,R1...</td>\n",
       "      <td>Good product,Good one,Nice,Really nice product...</td>\n",
       "      <td>Good product,long wire,Charges good,Nice,I bou...</td>\n",
       "      <td>https://m.media-amazon.com/images/I/41V5FtEWPk...</td>\n",
       "      <td>https://www.amazon.in/Deuce-300-Resistant-Tang...</td>\n",
       "    </tr>\n",
       "    <tr>\n",
       "      <th>4</th>\n",
       "      <td>B08CF3B7N1</td>\n",
       "      <td>Portronics Konnect L 1.2M Fast Charging 3A 8 P...</td>\n",
       "      <td>Computers&amp;Accessories|Accessories&amp;Peripherals|...</td>\n",
       "      <td>₹154</td>\n",
       "      <td>₹399</td>\n",
       "      <td>61%</td>\n",
       "      <td>4.2</td>\n",
       "      <td>16,905</td>\n",
       "      <td>[CHARGE &amp; SYNC FUNCTION]- This cable comes wit...</td>\n",
       "      <td>AE3Q6KSUK5P75D5HFYHCRAOLODSA,AFUGIFH5ZAFXRDSZH...</td>\n",
       "      <td>rahuls6099,Swasat Borah,Ajay Wadke,Pranali,RVK...</td>\n",
       "      <td>R1BP4L2HH9TFUP,R16PVJEXKV6QZS,R2UPDB81N66T4P,R...</td>\n",
       "      <td>As good as original,Decent,Good one for second...</td>\n",
       "      <td>Bought this instead of original apple, does th...</td>\n",
       "      <td>https://m.media-amazon.com/images/W/WEBP_40237...</td>\n",
       "      <td>https://www.amazon.in/Portronics-Konnect-POR-1...</td>\n",
       "    </tr>\n",
       "  </tbody>\n",
       "</table>\n",
       "</div>"
      ],
      "text/plain": [
       "   product_id                                       product_name  \\\n",
       "0  B07JW9H4J1  Wayona Nylon Braided USB to Lightning Fast Cha...   \n",
       "1  B098NS6PVG  Ambrane Unbreakable 60W / 3A Fast Charging 1.5...   \n",
       "2  B096MSW6CT  Sounce Fast Phone Charging Cable & Data Sync U...   \n",
       "3  B08HDJ86NZ  boAt Deuce USB 300 2 in 1 Type-C & Micro USB S...   \n",
       "4  B08CF3B7N1  Portronics Konnect L 1.2M Fast Charging 3A 8 P...   \n",
       "\n",
       "                                            category discounted_price  \\\n",
       "0  Computers&Accessories|Accessories&Peripherals|...             ₹399   \n",
       "1  Computers&Accessories|Accessories&Peripherals|...             ₹199   \n",
       "2  Computers&Accessories|Accessories&Peripherals|...             ₹199   \n",
       "3  Computers&Accessories|Accessories&Peripherals|...             ₹329   \n",
       "4  Computers&Accessories|Accessories&Peripherals|...             ₹154   \n",
       "\n",
       "  actual_price discount_percentage rating rating_count  \\\n",
       "0       ₹1,099                 64%    4.2       24,269   \n",
       "1         ₹349                 43%    4.0       43,994   \n",
       "2       ₹1,899                 90%    3.9        7,928   \n",
       "3         ₹699                 53%    4.2       94,363   \n",
       "4         ₹399                 61%    4.2       16,905   \n",
       "\n",
       "                                       about_product  \\\n",
       "0  High Compatibility : Compatible With iPhone 12...   \n",
       "1  Compatible with all Type C enabled devices, be...   \n",
       "2  【 Fast Charger& Data Sync】-With built-in safet...   \n",
       "3  The boAt Deuce USB 300 2 in 1 cable is compati...   \n",
       "4  [CHARGE & SYNC FUNCTION]- This cable comes wit...   \n",
       "\n",
       "                                             user_id  \\\n",
       "0  AG3D6O4STAQKAY2UVGEUV46KN35Q,AHMY5CWJMMK5BJRBB...   \n",
       "1  AECPFYFQVRUWC3KGNLJIOREFP5LQ,AGYYVPDD7YG7FYNBX...   \n",
       "2  AGU3BBQ2V2DDAMOAKGFAWDDQ6QHA,AESFLDV2PT363T2AQ...   \n",
       "3  AEWAZDZZJLQUYVOVGBEUKSLXHQ5A,AG5HTSFRRE6NL3M5S...   \n",
       "4  AE3Q6KSUK5P75D5HFYHCRAOLODSA,AFUGIFH5ZAFXRDSZH...   \n",
       "\n",
       "                                           user_name  \\\n",
       "0  Manav,Adarsh gupta,Sundeep,S.Sayeed Ahmed,jasp...   \n",
       "1  ArdKn,Nirbhay kumar,Sagar Viswanathan,Asp,Plac...   \n",
       "2  Kunal,Himanshu,viswanath,sai niharka,saqib mal...   \n",
       "3  Omkar dhale,JD,HEMALATHA,Ajwadh a.,amar singh ...   \n",
       "4  rahuls6099,Swasat Borah,Ajay Wadke,Pranali,RVK...   \n",
       "\n",
       "                                           review_id  \\\n",
       "0  R3HXWT0LRP0NMF,R2AJM3LFTLZHFO,R6AQJGUP6P86,R1K...   \n",
       "1  RGIQEG07R9HS2,R1SMWZQ86XIN8U,R2J3Y1WL29GWDE,RY...   \n",
       "2  R3J3EQQ9TZI5ZJ,R3E7WBGK7ID0KV,RWU79XKQ6I1QF,R2...   \n",
       "3  R3EEUZKKK9J36I,R3HJVYCLYOY554,REDECAZ7AMPQC,R1...   \n",
       "4  R1BP4L2HH9TFUP,R16PVJEXKV6QZS,R2UPDB81N66T4P,R...   \n",
       "\n",
       "                                        review_title  \\\n",
       "0  Satisfied,Charging is really fast,Value for mo...   \n",
       "1  A Good Braided Cable for Your Type C Device,Go...   \n",
       "2  Good speed for earlier versions,Good Product,W...   \n",
       "3  Good product,Good one,Nice,Really nice product...   \n",
       "4  As good as original,Decent,Good one for second...   \n",
       "\n",
       "                                      review_content  \\\n",
       "0  Looks durable Charging is fine tooNo complains...   \n",
       "1  I ordered this cable to connect my phone to An...   \n",
       "2  Not quite durable and sturdy,https://m.media-a...   \n",
       "3  Good product,long wire,Charges good,Nice,I bou...   \n",
       "4  Bought this instead of original apple, does th...   \n",
       "\n",
       "                                            img_link  \\\n",
       "0  https://m.media-amazon.com/images/W/WEBP_40237...   \n",
       "1  https://m.media-amazon.com/images/W/WEBP_40237...   \n",
       "2  https://m.media-amazon.com/images/W/WEBP_40237...   \n",
       "3  https://m.media-amazon.com/images/I/41V5FtEWPk...   \n",
       "4  https://m.media-amazon.com/images/W/WEBP_40237...   \n",
       "\n",
       "                                        product_link  \n",
       "0  https://www.amazon.in/Wayona-Braided-WN3LG1-Sy...  \n",
       "1  https://www.amazon.in/Ambrane-Unbreakable-Char...  \n",
       "2  https://www.amazon.in/Sounce-iPhone-Charging-C...  \n",
       "3  https://www.amazon.in/Deuce-300-Resistant-Tang...  \n",
       "4  https://www.amazon.in/Portronics-Konnect-POR-1...  "
      ]
     },
     "execution_count": 120,
     "metadata": {},
     "output_type": "execute_result"
    }
   ],
   "source": [
    "df.head()\n"
   ]
  },
  {
   "cell_type": "code",
   "execution_count": 121,
   "metadata": {},
   "outputs": [
    {
     "data": {
      "text/plain": [
       "(1465, 16)"
      ]
     },
     "execution_count": 121,
     "metadata": {},
     "output_type": "execute_result"
    }
   ],
   "source": [
    "df.shape\n"
   ]
  },
  {
   "cell_type": "code",
   "execution_count": 122,
   "metadata": {},
   "outputs": [
    {
     "name": "stdout",
     "output_type": "stream",
     "text": [
      "product_id             0\n",
      "product_name           0\n",
      "category               0\n",
      "discounted_price       0\n",
      "actual_price           0\n",
      "discount_percentage    0\n",
      "rating                 0\n",
      "rating_count           2\n",
      "about_product          0\n",
      "user_id                0\n",
      "user_name              0\n",
      "review_id              0\n",
      "review_title           0\n",
      "review_content         0\n",
      "img_link               0\n",
      "product_link           0\n",
      "dtype: int64\n"
     ]
    },
    {
     "data": {
      "text/html": [
       "<div>\n",
       "<style scoped>\n",
       "    .dataframe tbody tr th:only-of-type {\n",
       "        vertical-align: middle;\n",
       "    }\n",
       "\n",
       "    .dataframe tbody tr th {\n",
       "        vertical-align: top;\n",
       "    }\n",
       "\n",
       "    .dataframe thead th {\n",
       "        text-align: right;\n",
       "    }\n",
       "</style>\n",
       "<table border=\"1\" class=\"dataframe\">\n",
       "  <thead>\n",
       "    <tr style=\"text-align: right;\">\n",
       "      <th></th>\n",
       "      <th>product_id</th>\n",
       "      <th>product_name</th>\n",
       "      <th>category</th>\n",
       "      <th>discounted_price</th>\n",
       "      <th>actual_price</th>\n",
       "      <th>discount_percentage</th>\n",
       "      <th>rating</th>\n",
       "      <th>rating_count</th>\n",
       "      <th>about_product</th>\n",
       "      <th>user_id</th>\n",
       "      <th>user_name</th>\n",
       "      <th>review_id</th>\n",
       "      <th>review_title</th>\n",
       "      <th>review_content</th>\n",
       "      <th>img_link</th>\n",
       "      <th>product_link</th>\n",
       "    </tr>\n",
       "  </thead>\n",
       "  <tbody>\n",
       "    <tr>\n",
       "      <th>282</th>\n",
       "      <td>B0B94JPY2N</td>\n",
       "      <td>Amazon Brand - Solimo 65W Fast Charging Braide...</td>\n",
       "      <td>Computers&amp;Accessories|Accessories&amp;Peripherals|...</td>\n",
       "      <td>₹199</td>\n",
       "      <td>₹999</td>\n",
       "      <td>80%</td>\n",
       "      <td>3.0</td>\n",
       "      <td>NaN</td>\n",
       "      <td>USB C to C Cable: This cable has type C connec...</td>\n",
       "      <td>AE7CFHY23VAJT2FI4NZKKP6GS2UQ</td>\n",
       "      <td>Pranav</td>\n",
       "      <td>RUB7U91HVZ30</td>\n",
       "      <td>The cable works but is not 65W as advertised</td>\n",
       "      <td>I have a pd supported car charger and I bought...</td>\n",
       "      <td>https://m.media-amazon.com/images/W/WEBP_40237...</td>\n",
       "      <td>https://www.amazon.in/Amazon-Brand-Charging-Su...</td>\n",
       "    </tr>\n",
       "    <tr>\n",
       "      <th>324</th>\n",
       "      <td>B0BQRJ3C47</td>\n",
       "      <td>REDTECH USB-C to Lightning Cable 3.3FT, [Apple...</td>\n",
       "      <td>Computers&amp;Accessories|Accessories&amp;Peripherals|...</td>\n",
       "      <td>₹249</td>\n",
       "      <td>₹999</td>\n",
       "      <td>75%</td>\n",
       "      <td>5.0</td>\n",
       "      <td>NaN</td>\n",
       "      <td>💎[The Fastest Charge] - This iPhone USB C cabl...</td>\n",
       "      <td>AGJC5O5H5BBXWUV7WRIEIOOR3TVQ</td>\n",
       "      <td>Abdul Gafur</td>\n",
       "      <td>RQXD5SAMMPC6L</td>\n",
       "      <td>Awesome Product</td>\n",
       "      <td>Quick delivery.Awesome ProductPacking was good...</td>\n",
       "      <td>https://m.media-amazon.com/images/I/31-q0xhaTA...</td>\n",
       "      <td>https://www.amazon.in/REDTECH-Lightning-Certif...</td>\n",
       "    </tr>\n",
       "  </tbody>\n",
       "</table>\n",
       "</div>"
      ],
      "text/plain": [
       "     product_id                                       product_name  \\\n",
       "282  B0B94JPY2N  Amazon Brand - Solimo 65W Fast Charging Braide...   \n",
       "324  B0BQRJ3C47  REDTECH USB-C to Lightning Cable 3.3FT, [Apple...   \n",
       "\n",
       "                                              category discounted_price  \\\n",
       "282  Computers&Accessories|Accessories&Peripherals|...             ₹199   \n",
       "324  Computers&Accessories|Accessories&Peripherals|...             ₹249   \n",
       "\n",
       "    actual_price discount_percentage rating rating_count  \\\n",
       "282         ₹999                 80%    3.0          NaN   \n",
       "324         ₹999                 75%    5.0          NaN   \n",
       "\n",
       "                                         about_product  \\\n",
       "282  USB C to C Cable: This cable has type C connec...   \n",
       "324  💎[The Fastest Charge] - This iPhone USB C cabl...   \n",
       "\n",
       "                          user_id    user_name      review_id  \\\n",
       "282  AE7CFHY23VAJT2FI4NZKKP6GS2UQ       Pranav   RUB7U91HVZ30   \n",
       "324  AGJC5O5H5BBXWUV7WRIEIOOR3TVQ  Abdul Gafur  RQXD5SAMMPC6L   \n",
       "\n",
       "                                     review_title  \\\n",
       "282  The cable works but is not 65W as advertised   \n",
       "324                               Awesome Product   \n",
       "\n",
       "                                        review_content  \\\n",
       "282  I have a pd supported car charger and I bought...   \n",
       "324  Quick delivery.Awesome ProductPacking was good...   \n",
       "\n",
       "                                              img_link  \\\n",
       "282  https://m.media-amazon.com/images/W/WEBP_40237...   \n",
       "324  https://m.media-amazon.com/images/I/31-q0xhaTA...   \n",
       "\n",
       "                                          product_link  \n",
       "282  https://www.amazon.in/Amazon-Brand-Charging-Su...  \n",
       "324  https://www.amazon.in/REDTECH-Lightning-Certif...  "
      ]
     },
     "execution_count": 122,
     "metadata": {},
     "output_type": "execute_result"
    }
   ],
   "source": [
    "# Check for missing values\n",
    "def check_missing_values(dataframe):\n",
    "    return dataframe.isnull().sum()\n",
    "\n",
    "print(check_missing_values(df))\n",
    "df[df.rating_count.isnull()]"
   ]
  },
  {
   "cell_type": "code",
   "execution_count": 123,
   "metadata": {},
   "outputs": [
    {
     "name": "stdout",
     "output_type": "stream",
     "text": [
      "product_id             0\n",
      "product_name           0\n",
      "category               0\n",
      "discounted_price       0\n",
      "actual_price           0\n",
      "discount_percentage    0\n",
      "rating                 0\n",
      "rating_count           0\n",
      "about_product          0\n",
      "user_id                0\n",
      "user_name              0\n",
      "review_id              0\n",
      "review_title           0\n",
      "review_content         0\n",
      "img_link               0\n",
      "product_link           0\n",
      "dtype: int64\n"
     ]
    }
   ],
   "source": [
    "# Remove rows with missing values in the rating_count column\n",
    "df.dropna(subset=['rating_count'], inplace=True)\n",
    "print(check_missing_values(df))"
   ]
  },
  {
   "cell_type": "code",
   "execution_count": 124,
   "metadata": {},
   "outputs": [
    {
     "name": "stdout",
     "output_type": "stream",
     "text": [
      "0\n"
     ]
    }
   ],
   "source": [
    "# Check for duplicates\n",
    "def check_duplicates(dataframe):\n",
    "    return dataframe.duplicated().sum()\n",
    "\n",
    "print(check_duplicates(df))"
   ]
  },
  {
   "cell_type": "code",
   "execution_count": 125,
   "metadata": {},
   "outputs": [
    {
     "name": "stdout",
     "output_type": "stream",
     "text": [
      "product_id             object\n",
      "product_name           object\n",
      "category               object\n",
      "discounted_price       object\n",
      "actual_price           object\n",
      "discount_percentage    object\n",
      "rating                 object\n",
      "rating_count           object\n",
      "about_product          object\n",
      "user_id                object\n",
      "user_name              object\n",
      "review_id              object\n",
      "review_title           object\n",
      "review_content         object\n",
      "img_link               object\n",
      "product_link           object\n",
      "dtype: object\n"
     ]
    }
   ],
   "source": [
    "# Check data types\n",
    "def check_data_types(dataframe):\n",
    "    return dataframe.dtypes\n",
    "\n",
    "print(check_data_types(df))"
   ]
  },
  {
   "cell_type": "code",
   "execution_count": 126,
   "metadata": {},
   "outputs": [],
   "source": [
    "df['discounted_price'] = df['discounted_price'].astype(str).str.replace('₹', '').str.replace(',', '').astype(float)\n",
    "df['actual_price'] = df['actual_price'].astype(str).str.replace('₹', '').str.replace(',', '').astype(float)\n",
    "df['discount_percentage'] = df['discount_percentage'].astype(str).str.replace('%','').astype(float)/100"
   ]
  },
  {
   "cell_type": "code",
   "execution_count": 127,
   "metadata": {},
   "outputs": [
    {
     "name": "stdout",
     "output_type": "stream",
     "text": [
      "Total de linhas com '|' na coluna 'rating': 1\n",
      "Total de linhas com '|' na coluna 'rating': 0\n"
     ]
    }
   ],
   "source": [
    "# The rating column has a value with an incorrect character, so we will exclude\n",
    "# the row to obtain a clean dataset.\n",
    "count = df['rating'].str.contains('\\|').sum()\n",
    "print(f\"Total de linhas com '|' na coluna 'rating': {count}\")\n",
    "df = df[df['rating'].apply(lambda x: '|' not in str(x))]\n",
    "count = df['rating'].str.contains('\\|').sum()\n",
    "print(f\"Total de linhas com '|' na coluna 'rating': {count}\")"
   ]
  },
  {
   "cell_type": "code",
   "execution_count": 128,
   "metadata": {},
   "outputs": [],
   "source": [
    "df['rating'] = df['rating'].astype(str).str.replace(',', '').astype(float)\n",
    "df['rating_count'] = df['rating_count'].astype(str).str.replace(',', '').astype(float)"
   ]
  },
  {
   "cell_type": "code",
   "execution_count": 129,
   "metadata": {},
   "outputs": [
    {
     "name": "stdout",
     "output_type": "stream",
     "text": [
      "product_id              object\n",
      "product_name            object\n",
      "category                object\n",
      "discounted_price       float64\n",
      "actual_price           float64\n",
      "discount_percentage    float64\n",
      "rating                 float64\n",
      "rating_count           float64\n",
      "about_product           object\n",
      "user_id                 object\n",
      "user_name               object\n",
      "review_id               object\n",
      "review_title            object\n",
      "review_content          object\n",
      "img_link                object\n",
      "product_link            object\n",
      "dtype: object\n"
     ]
    }
   ],
   "source": [
    "print(check_data_types(df))\n"
   ]
  },
  {
   "cell_type": "code",
   "execution_count": 130,
   "metadata": {},
   "outputs": [],
   "source": [
    "# Creating the column \"rating_weighted\"\n",
    "df['rating_weighted'] = df['rating'] * df['rating_count']"
   ]
  },
  {
   "cell_type": "code",
   "execution_count": 131,
   "metadata": {},
   "outputs": [],
   "source": [
    "df['sub_category'] = df['category'].astype(str).str.split('|').str[-1]\n",
    "df['main_category'] = df['category'].astype(str).str.split('|').str[0]"
   ]
  },
  {
   "cell_type": "code",
   "execution_count": 132,
   "metadata": {},
   "outputs": [
    {
     "data": {
      "text/plain": [
       "Index(['product_id', 'product_name', 'category', 'discounted_price',\n",
       "       'actual_price', 'discount_percentage', 'rating', 'rating_count',\n",
       "       'about_product', 'user_id', 'user_name', 'review_id', 'review_title',\n",
       "       'review_content', 'img_link', 'product_link', 'rating_weighted',\n",
       "       'sub_category', 'main_category'],\n",
       "      dtype='object')"
      ]
     },
     "execution_count": 132,
     "metadata": {},
     "output_type": "execute_result"
    }
   ],
   "source": [
    "df.columns\n"
   ]
  },
  {
   "cell_type": "code",
   "execution_count": 133,
   "metadata": {},
   "outputs": [
    {
     "data": {
      "text/plain": [
       "1462"
      ]
     },
     "execution_count": 133,
     "metadata": {},
     "output_type": "execute_result"
    }
   ],
   "source": [
    "len(df)\n"
   ]
  },
  {
   "cell_type": "code",
   "execution_count": 134,
   "metadata": {},
   "outputs": [
    {
     "data": {
      "text/html": [
       "<div>\n",
       "<style scoped>\n",
       "    .dataframe tbody tr th:only-of-type {\n",
       "        vertical-align: middle;\n",
       "    }\n",
       "\n",
       "    .dataframe tbody tr th {\n",
       "        vertical-align: top;\n",
       "    }\n",
       "\n",
       "    .dataframe thead th {\n",
       "        text-align: right;\n",
       "    }\n",
       "</style>\n",
       "<table border=\"1\" class=\"dataframe\">\n",
       "  <thead>\n",
       "    <tr style=\"text-align: right;\">\n",
       "      <th></th>\n",
       "      <th>product_id</th>\n",
       "      <th>product_name</th>\n",
       "      <th>category</th>\n",
       "      <th>discounted_price</th>\n",
       "      <th>actual_price</th>\n",
       "      <th>discount_percentage</th>\n",
       "      <th>rating</th>\n",
       "      <th>rating_count</th>\n",
       "      <th>about_product</th>\n",
       "      <th>user_id</th>\n",
       "      <th>user_name</th>\n",
       "      <th>review_id</th>\n",
       "      <th>review_title</th>\n",
       "      <th>review_content</th>\n",
       "      <th>img_link</th>\n",
       "      <th>product_link</th>\n",
       "      <th>rating_weighted</th>\n",
       "      <th>sub_category</th>\n",
       "      <th>main_category</th>\n",
       "    </tr>\n",
       "  </thead>\n",
       "  <tbody>\n",
       "    <tr>\n",
       "      <th>0</th>\n",
       "      <td>B07JW9H4J1</td>\n",
       "      <td>Wayona Nylon Braided USB to Lightning Fast Cha...</td>\n",
       "      <td>Computers&amp;Accessories|Accessories&amp;Peripherals|...</td>\n",
       "      <td>399.0</td>\n",
       "      <td>1099.0</td>\n",
       "      <td>0.64</td>\n",
       "      <td>4.2</td>\n",
       "      <td>24269.0</td>\n",
       "      <td>High Compatibility : Compatible With iPhone 12...</td>\n",
       "      <td>AG3D6O4STAQKAY2UVGEUV46KN35Q,AHMY5CWJMMK5BJRBB...</td>\n",
       "      <td>Manav,Adarsh gupta,Sundeep,S.Sayeed Ahmed,jasp...</td>\n",
       "      <td>R3HXWT0LRP0NMF,R2AJM3LFTLZHFO,R6AQJGUP6P86,R1K...</td>\n",
       "      <td>Satisfied,Charging is really fast,Value for mo...</td>\n",
       "      <td>Looks durable Charging is fine tooNo complains...</td>\n",
       "      <td>https://m.media-amazon.com/images/W/WEBP_40237...</td>\n",
       "      <td>https://www.amazon.in/Wayona-Braided-WN3LG1-Sy...</td>\n",
       "      <td>101929.8</td>\n",
       "      <td>USBCables</td>\n",
       "      <td>Computers&amp;Accessories</td>\n",
       "    </tr>\n",
       "    <tr>\n",
       "      <th>1</th>\n",
       "      <td>B098NS6PVG</td>\n",
       "      <td>Ambrane Unbreakable 60W / 3A Fast Charging 1.5...</td>\n",
       "      <td>Computers&amp;Accessories|Accessories&amp;Peripherals|...</td>\n",
       "      <td>199.0</td>\n",
       "      <td>349.0</td>\n",
       "      <td>0.43</td>\n",
       "      <td>4.0</td>\n",
       "      <td>43994.0</td>\n",
       "      <td>Compatible with all Type C enabled devices, be...</td>\n",
       "      <td>AECPFYFQVRUWC3KGNLJIOREFP5LQ,AGYYVPDD7YG7FYNBX...</td>\n",
       "      <td>ArdKn,Nirbhay kumar,Sagar Viswanathan,Asp,Plac...</td>\n",
       "      <td>RGIQEG07R9HS2,R1SMWZQ86XIN8U,R2J3Y1WL29GWDE,RY...</td>\n",
       "      <td>A Good Braided Cable for Your Type C Device,Go...</td>\n",
       "      <td>I ordered this cable to connect my phone to An...</td>\n",
       "      <td>https://m.media-amazon.com/images/W/WEBP_40237...</td>\n",
       "      <td>https://www.amazon.in/Ambrane-Unbreakable-Char...</td>\n",
       "      <td>175976.0</td>\n",
       "      <td>USBCables</td>\n",
       "      <td>Computers&amp;Accessories</td>\n",
       "    </tr>\n",
       "    <tr>\n",
       "      <th>2</th>\n",
       "      <td>B096MSW6CT</td>\n",
       "      <td>Sounce Fast Phone Charging Cable &amp; Data Sync U...</td>\n",
       "      <td>Computers&amp;Accessories|Accessories&amp;Peripherals|...</td>\n",
       "      <td>199.0</td>\n",
       "      <td>1899.0</td>\n",
       "      <td>0.90</td>\n",
       "      <td>3.9</td>\n",
       "      <td>7928.0</td>\n",
       "      <td>【 Fast Charger&amp; Data Sync】-With built-in safet...</td>\n",
       "      <td>AGU3BBQ2V2DDAMOAKGFAWDDQ6QHA,AESFLDV2PT363T2AQ...</td>\n",
       "      <td>Kunal,Himanshu,viswanath,sai niharka,saqib mal...</td>\n",
       "      <td>R3J3EQQ9TZI5ZJ,R3E7WBGK7ID0KV,RWU79XKQ6I1QF,R2...</td>\n",
       "      <td>Good speed for earlier versions,Good Product,W...</td>\n",
       "      <td>Not quite durable and sturdy,https://m.media-a...</td>\n",
       "      <td>https://m.media-amazon.com/images/W/WEBP_40237...</td>\n",
       "      <td>https://www.amazon.in/Sounce-iPhone-Charging-C...</td>\n",
       "      <td>30919.2</td>\n",
       "      <td>USBCables</td>\n",
       "      <td>Computers&amp;Accessories</td>\n",
       "    </tr>\n",
       "    <tr>\n",
       "      <th>3</th>\n",
       "      <td>B08HDJ86NZ</td>\n",
       "      <td>boAt Deuce USB 300 2 in 1 Type-C &amp; Micro USB S...</td>\n",
       "      <td>Computers&amp;Accessories|Accessories&amp;Peripherals|...</td>\n",
       "      <td>329.0</td>\n",
       "      <td>699.0</td>\n",
       "      <td>0.53</td>\n",
       "      <td>4.2</td>\n",
       "      <td>94363.0</td>\n",
       "      <td>The boAt Deuce USB 300 2 in 1 cable is compati...</td>\n",
       "      <td>AEWAZDZZJLQUYVOVGBEUKSLXHQ5A,AG5HTSFRRE6NL3M5S...</td>\n",
       "      <td>Omkar dhale,JD,HEMALATHA,Ajwadh a.,amar singh ...</td>\n",
       "      <td>R3EEUZKKK9J36I,R3HJVYCLYOY554,REDECAZ7AMPQC,R1...</td>\n",
       "      <td>Good product,Good one,Nice,Really nice product...</td>\n",
       "      <td>Good product,long wire,Charges good,Nice,I bou...</td>\n",
       "      <td>https://m.media-amazon.com/images/I/41V5FtEWPk...</td>\n",
       "      <td>https://www.amazon.in/Deuce-300-Resistant-Tang...</td>\n",
       "      <td>396324.6</td>\n",
       "      <td>USBCables</td>\n",
       "      <td>Computers&amp;Accessories</td>\n",
       "    </tr>\n",
       "    <tr>\n",
       "      <th>4</th>\n",
       "      <td>B08CF3B7N1</td>\n",
       "      <td>Portronics Konnect L 1.2M Fast Charging 3A 8 P...</td>\n",
       "      <td>Computers&amp;Accessories|Accessories&amp;Peripherals|...</td>\n",
       "      <td>154.0</td>\n",
       "      <td>399.0</td>\n",
       "      <td>0.61</td>\n",
       "      <td>4.2</td>\n",
       "      <td>16905.0</td>\n",
       "      <td>[CHARGE &amp; SYNC FUNCTION]- This cable comes wit...</td>\n",
       "      <td>AE3Q6KSUK5P75D5HFYHCRAOLODSA,AFUGIFH5ZAFXRDSZH...</td>\n",
       "      <td>rahuls6099,Swasat Borah,Ajay Wadke,Pranali,RVK...</td>\n",
       "      <td>R1BP4L2HH9TFUP,R16PVJEXKV6QZS,R2UPDB81N66T4P,R...</td>\n",
       "      <td>As good as original,Decent,Good one for second...</td>\n",
       "      <td>Bought this instead of original apple, does th...</td>\n",
       "      <td>https://m.media-amazon.com/images/W/WEBP_40237...</td>\n",
       "      <td>https://www.amazon.in/Portronics-Konnect-POR-1...</td>\n",
       "      <td>71001.0</td>\n",
       "      <td>USBCables</td>\n",
       "      <td>Computers&amp;Accessories</td>\n",
       "    </tr>\n",
       "  </tbody>\n",
       "</table>\n",
       "</div>"
      ],
      "text/plain": [
       "   product_id                                       product_name  \\\n",
       "0  B07JW9H4J1  Wayona Nylon Braided USB to Lightning Fast Cha...   \n",
       "1  B098NS6PVG  Ambrane Unbreakable 60W / 3A Fast Charging 1.5...   \n",
       "2  B096MSW6CT  Sounce Fast Phone Charging Cable & Data Sync U...   \n",
       "3  B08HDJ86NZ  boAt Deuce USB 300 2 in 1 Type-C & Micro USB S...   \n",
       "4  B08CF3B7N1  Portronics Konnect L 1.2M Fast Charging 3A 8 P...   \n",
       "\n",
       "                                            category  discounted_price  \\\n",
       "0  Computers&Accessories|Accessories&Peripherals|...             399.0   \n",
       "1  Computers&Accessories|Accessories&Peripherals|...             199.0   \n",
       "2  Computers&Accessories|Accessories&Peripherals|...             199.0   \n",
       "3  Computers&Accessories|Accessories&Peripherals|...             329.0   \n",
       "4  Computers&Accessories|Accessories&Peripherals|...             154.0   \n",
       "\n",
       "   actual_price  discount_percentage  rating  rating_count  \\\n",
       "0        1099.0                 0.64     4.2       24269.0   \n",
       "1         349.0                 0.43     4.0       43994.0   \n",
       "2        1899.0                 0.90     3.9        7928.0   \n",
       "3         699.0                 0.53     4.2       94363.0   \n",
       "4         399.0                 0.61     4.2       16905.0   \n",
       "\n",
       "                                       about_product  \\\n",
       "0  High Compatibility : Compatible With iPhone 12...   \n",
       "1  Compatible with all Type C enabled devices, be...   \n",
       "2  【 Fast Charger& Data Sync】-With built-in safet...   \n",
       "3  The boAt Deuce USB 300 2 in 1 cable is compati...   \n",
       "4  [CHARGE & SYNC FUNCTION]- This cable comes wit...   \n",
       "\n",
       "                                             user_id  \\\n",
       "0  AG3D6O4STAQKAY2UVGEUV46KN35Q,AHMY5CWJMMK5BJRBB...   \n",
       "1  AECPFYFQVRUWC3KGNLJIOREFP5LQ,AGYYVPDD7YG7FYNBX...   \n",
       "2  AGU3BBQ2V2DDAMOAKGFAWDDQ6QHA,AESFLDV2PT363T2AQ...   \n",
       "3  AEWAZDZZJLQUYVOVGBEUKSLXHQ5A,AG5HTSFRRE6NL3M5S...   \n",
       "4  AE3Q6KSUK5P75D5HFYHCRAOLODSA,AFUGIFH5ZAFXRDSZH...   \n",
       "\n",
       "                                           user_name  \\\n",
       "0  Manav,Adarsh gupta,Sundeep,S.Sayeed Ahmed,jasp...   \n",
       "1  ArdKn,Nirbhay kumar,Sagar Viswanathan,Asp,Plac...   \n",
       "2  Kunal,Himanshu,viswanath,sai niharka,saqib mal...   \n",
       "3  Omkar dhale,JD,HEMALATHA,Ajwadh a.,amar singh ...   \n",
       "4  rahuls6099,Swasat Borah,Ajay Wadke,Pranali,RVK...   \n",
       "\n",
       "                                           review_id  \\\n",
       "0  R3HXWT0LRP0NMF,R2AJM3LFTLZHFO,R6AQJGUP6P86,R1K...   \n",
       "1  RGIQEG07R9HS2,R1SMWZQ86XIN8U,R2J3Y1WL29GWDE,RY...   \n",
       "2  R3J3EQQ9TZI5ZJ,R3E7WBGK7ID0KV,RWU79XKQ6I1QF,R2...   \n",
       "3  R3EEUZKKK9J36I,R3HJVYCLYOY554,REDECAZ7AMPQC,R1...   \n",
       "4  R1BP4L2HH9TFUP,R16PVJEXKV6QZS,R2UPDB81N66T4P,R...   \n",
       "\n",
       "                                        review_title  \\\n",
       "0  Satisfied,Charging is really fast,Value for mo...   \n",
       "1  A Good Braided Cable for Your Type C Device,Go...   \n",
       "2  Good speed for earlier versions,Good Product,W...   \n",
       "3  Good product,Good one,Nice,Really nice product...   \n",
       "4  As good as original,Decent,Good one for second...   \n",
       "\n",
       "                                      review_content  \\\n",
       "0  Looks durable Charging is fine tooNo complains...   \n",
       "1  I ordered this cable to connect my phone to An...   \n",
       "2  Not quite durable and sturdy,https://m.media-a...   \n",
       "3  Good product,long wire,Charges good,Nice,I bou...   \n",
       "4  Bought this instead of original apple, does th...   \n",
       "\n",
       "                                            img_link  \\\n",
       "0  https://m.media-amazon.com/images/W/WEBP_40237...   \n",
       "1  https://m.media-amazon.com/images/W/WEBP_40237...   \n",
       "2  https://m.media-amazon.com/images/W/WEBP_40237...   \n",
       "3  https://m.media-amazon.com/images/I/41V5FtEWPk...   \n",
       "4  https://m.media-amazon.com/images/W/WEBP_40237...   \n",
       "\n",
       "                                        product_link  rating_weighted  \\\n",
       "0  https://www.amazon.in/Wayona-Braided-WN3LG1-Sy...         101929.8   \n",
       "1  https://www.amazon.in/Ambrane-Unbreakable-Char...         175976.0   \n",
       "2  https://www.amazon.in/Sounce-iPhone-Charging-C...          30919.2   \n",
       "3  https://www.amazon.in/Deuce-300-Resistant-Tang...         396324.6   \n",
       "4  https://www.amazon.in/Portronics-Konnect-POR-1...          71001.0   \n",
       "\n",
       "  sub_category          main_category  \n",
       "0    USBCables  Computers&Accessories  \n",
       "1    USBCables  Computers&Accessories  \n",
       "2    USBCables  Computers&Accessories  \n",
       "3    USBCables  Computers&Accessories  \n",
       "4    USBCables  Computers&Accessories  "
      ]
     },
     "execution_count": 134,
     "metadata": {},
     "output_type": "execute_result"
    }
   ],
   "source": [
    "df.head()\n"
   ]
  },
  {
   "cell_type": "code",
   "execution_count": 135,
   "metadata": {},
   "outputs": [
    {
     "data": {
      "image/png": "[encoded data removed]",
      "text/plain": [
       "<Figure size 640x480 with 1 Axes>"
      ]
     },
     "metadata": {},
     "output_type": "display_data"
    },
    {
     "name": "stdout",
     "output_type": "stream",
     "text": [
      "Top 30 main categories:\n",
      "        Main Category  Number of Products\n",
      "          Electronics                 526\n",
      "Computers&Accessories                 451\n",
      "         Home&Kitchen                 447\n",
      "       OfficeProducts                  31\n",
      "   MusicalInstruments                   2\n",
      "      HomeImprovement                   2\n",
      "           Toys&Games                   1\n",
      "        Car&Motorbike                   1\n",
      "  Health&PersonalCare                   1\n"
     ]
    }
   ],
   "source": [
    "#3-Exploratory Data Analysis (EDA) + Data visualization¶\n",
    "#3.1\n",
    "# Analyzing distribution of products by main category\n",
    "main_category_counts = df['main_category'].value_counts()[:30] # Select only the top 30 main categories.\n",
    "plt.bar(range(len(main_category_counts)), main_category_counts.values)\n",
    "plt.ylabel('Number of Products')\n",
    "plt.title('Distribution of Products by Main Category (Top 30)')\n",
    "plt.xticks(range(len(main_category_counts)), '') # hide X-axis labels\n",
    "plt.show()\n",
    "\n",
    "# Top 30 main categories \n",
    "top_main_categories = pd.DataFrame({'Main Category': main_category_counts.index, 'Number of Products': main_category_counts.values})\n",
    "print('Top 30 main categories:')\n",
    "print(top_main_categories.to_string(index=False))"
   ]
  },
  {
   "cell_type": "code",
   "execution_count": 136,
   "metadata": {},
   "outputs": [
    {
     "data": {
      "image/png": "[encoded data removed]",
      "text/plain": [
       "<Figure size 640x480 with 1 Axes>"
      ]
     },
     "metadata": {},
     "output_type": "display_data"
    },
    {
     "name": "stdout",
     "output_type": "stream",
     "text": [
      "Top 30 sub categories:\n",
      "            Sub Category  Number of Products\n",
      "               USBCables                 231\n",
      "            SmartWatches                  76\n",
      "             Smartphones                  68\n",
      "        SmartTelevisions                  63\n",
      "                  In-Ear                  52\n",
      "          RemoteControls                  49\n",
      "           MixerGrinders                  27\n",
      "              HDMICables                  24\n",
      "                DryIrons                  24\n",
      "                    Mice                  24\n",
      "     InstantWaterHeaters                  23\n",
      "             LintShavers                  22\n",
      "              FanHeaters                  20\n",
      "         ElectricHeaters                  20\n",
      "         ElectricKettles                  19\n",
      "            HandBlenders                  19\n",
      "     WirelessUSBAdapters                  18\n",
      "            WallChargers                  16\n",
      "                Lapdesks                  14\n",
      "          LaundryBaskets                  13\n",
      "                 MicroSD                  13\n",
      "      Kettle&ToasterSets                  13\n",
      "              SteamIrons                  12\n",
      "     JuicerMixerGrinders                  12\n",
      "  WaterFilters&Purifiers                  12\n",
      "        ScreenProtectors                  12\n",
      "     StorageWaterHeaters                  12\n",
      "              PowerBanks                  12\n",
      "          SandwichMakers                  11\n",
      "WaterPurifierAccessories                  11\n"
     ]
    }
   ],
   "source": [
    "# Analyzing distribution of products by last category\n",
    "sub_category_counts = df['sub_category'].value_counts()[:30] # Select only the top 30 last categories.\n",
    "plt.bar(range(len(sub_category_counts)), sub_category_counts.values)\n",
    "plt.ylabel('Number of Products')\n",
    "plt.title('Distribution of Products by Sub Category (Top 30)')\n",
    "plt.xticks(range(len(sub_category_counts)), '') # hide X-axis labels\n",
    "plt.show()\n",
    "\n",
    "# Top 30 sub categories \n",
    "top_sub_categories = pd.DataFrame({'Sub Category': sub_category_counts.index, 'Number of Products': sub_category_counts.values})\n",
    "print('Top 30 sub categories:')\n",
    "print(top_sub_categories.to_string(index=False))"
   ]
  },
  {
   "cell_type": "code",
   "execution_count": 138,
   "metadata": {},
   "outputs": [
    {
     "data": {
      "image/png": "[encoded data removed]",
      "text/plain": [
       "<Figure size 640x480 with 1 Axes>"
      ]
     },
     "metadata": {},
     "output_type": "display_data"
    }
   ],
   "source": [
    "# 3.2 Analyze the distribution of customer ratings using a histogram.\n",
    "# Plot histogram\n",
    "plt.hist(df['rating'])\n",
    "plt.xlabel('Rating')\n",
    "plt.ylabel('Number of Reviews')\n",
    "plt.title('Distribution of Customer Ratings')\n",
    "plt.show()\n",
    "\n",
    "\n"
   ]
  },
  {
   "cell_type": "code",
   "execution_count": 139,
   "metadata": {},
   "outputs": [
    {
     "name": "stdout",
     "output_type": "stream",
     "text": [
      "  Number of Reviews  count\n",
      "0               0-1      0\n",
      "1               1-2      1\n",
      "2               2-3      8\n",
      "3               3-4    525\n",
      "4               4-5    928\n"
     ]
    }
   ],
   "source": [
    "# Create table with values per cluster\n",
    "bins = [0, 1, 2, 3, 4, 5]  # Define bin edges\n",
    "df['cluster'] = pd.cut(df['rating'], bins=bins, include_lowest=True, labels=['0-1', '1-2', '2-3', '3-4', '4-5'])\n",
    "table = df['cluster'].value_counts().sort_index().reset_index().rename(columns={'index': 'Cluster', 'cluster': 'Number of Reviews'})\n",
    "print(table)"
   ]
  },
  {
   "cell_type": "code",
   "execution_count": 140,
   "metadata": {},
   "outputs": [
    {
     "data": {
      "image/png": "[encoded data removed]",
      "text/plain": [
       "<Figure size 640x480 with 1 Axes>"
      ]
     },
     "metadata": {},
     "output_type": "display_data"
    },
    {
     "name": "stdout",
     "output_type": "stream",
     "text": [
      "           main_category    rating\n",
      "0         OfficeProducts  4.309677\n",
      "1             Toys&Games  4.300000\n",
      "2        HomeImprovement  4.250000\n",
      "3  Computers&Accessories  4.155654\n",
      "4            Electronics  4.081749\n",
      "5           Home&Kitchen  4.040716\n",
      "6    Health&PersonalCare  4.000000\n",
      "7     MusicalInstruments  3.900000\n",
      "8          Car&Motorbike  3.800000\n"
     ]
    }
   ],
   "source": [
    "# Calculate the top main categories\n",
    "top = df.groupby(['main_category'])['rating'].mean().sort_values(ascending=False).head(10).reset_index()\n",
    "\n",
    "# Create a bar plot\n",
    "plt.bar(top['main_category'], top['rating'])\n",
    "\n",
    "# Add labels and title\n",
    "plt.xlabel('main_category')\n",
    "plt.ylabel('Rating')\n",
    "plt.title('Top main_category by Rating')\n",
    "\n",
    "# Rotate x-axis labels\n",
    "plt.xticks(rotation=90)\n",
    "\n",
    "# Show the plot\n",
    "plt.show()\n",
    "ranking = df.groupby('main_category')['rating'].mean().sort_values(ascending=False).reset_index()\n",
    "print(ranking)"
   ]
  },
  {
   "cell_type": "code",
   "execution_count": 141,
   "metadata": {},
   "outputs": [
    {
     "data": {
      "image/png": "[encoded data removed]",
      "text/plain": [
       "<Figure size 640x480 with 1 Axes>"
      ]
     },
     "metadata": {},
     "output_type": "display_data"
    },
    {
     "name": "stdout",
     "output_type": "stream",
     "text": [
      "                        sub_category  rating\n",
      "0                            Tablets     4.6\n",
      "1                               Film     4.5\n",
      "2                             Memory     4.5\n",
      "3    SmallApplianceParts&Accessories     4.5\n",
      "4                   StreamingClients     4.5\n",
      "..                               ...     ...\n",
      "202                   InkjetPrinters     3.6\n",
      "203                       PCHeadsets     3.5\n",
      "204                        3DGlasses     3.5\n",
      "205                       DustCovers     3.4\n",
      "206                 ElectricGrinders     3.3\n",
      "\n",
      "[207 rows x 2 columns]\n"
     ]
    }
   ],
   "source": [
    "# Calculate the top sub categories\n",
    "top = df.groupby(['sub_category'])['rating'].mean().sort_values(ascending=False).head(10).reset_index()\n",
    "\n",
    "# Create a bar plot\n",
    "plt.bar(top['sub_category'], top['rating'])\n",
    "\n",
    "# Add labels and title\n",
    "plt.xlabel('sub_category')\n",
    "plt.ylabel('Rating')\n",
    "plt.title('Top sub_category by Rating')\n",
    "\n",
    "# Rotate x-axis labels\n",
    "plt.xticks(rotation=90)\n",
    "\n",
    "# Show the plot\n",
    "plt.show()\n",
    "ranking = df.groupby('sub_category')['rating'].mean().sort_values(ascending=False).reset_index()\n",
    "print(ranking)"
   ]
  },
  {
   "cell_type": "code",
   "execution_count": 142,
   "metadata": {},
   "outputs": [
    {
     "data": {
      "image/png": "[encoded data removed]",
      "text/plain": [
       "<Figure size 640x480 with 1 Axes>"
      ]
     },
     "metadata": {},
     "output_type": "display_data"
    },
    {
     "name": "stdout",
     "output_type": "stream",
     "text": [
      "           Main Category  Mean Discount Percentage\n",
      "0             Toys&Games                  0.000000\n",
      "1         OfficeProducts                  0.123548\n",
      "2           Home&Kitchen                  0.401745\n",
      "3          Car&Motorbike                  0.420000\n",
      "4     MusicalInstruments                  0.460000\n",
      "5            Electronics                  0.508289\n",
      "6    Health&PersonalCare                  0.530000\n",
      "7  Computers&Accessories                  0.539202\n",
      "8        HomeImprovement                  0.575000\n"
     ]
    }
   ],
   "source": [
    "# sort the means in descending order\n",
    "mean_discount_by_category = df.groupby('main_category')['discount_percentage'].mean()\n",
    "mean_discount_by_category = mean_discount_by_category.sort_values(ascending=True)\n",
    "\n",
    "# create the horizontal bar chart\n",
    "plt.barh(mean_discount_by_category.index, mean_discount_by_category.values)\n",
    "plt.title('Discount Percentage by Main Category')\n",
    "plt.xlabel('Discount Percentage')\n",
    "plt.ylabel('Main Category')\n",
    "plt.show()\n",
    "\n",
    "table = pd.DataFrame({'Main Category': mean_discount_by_category.index, 'Mean Discount Percentage': mean_discount_by_category.values})\n",
    "\n",
    "print(table)"
   ]
  },
  {
   "cell_type": "code",
   "execution_count": 143,
   "metadata": {},
   "outputs": [
    {
     "data": {
      "image/png": "[encoded data removed]",
      "text/plain": [
       "<Figure size 640x480 with 1 Axes>"
      ]
     },
     "metadata": {},
     "output_type": "display_data"
    },
    {
     "name": "stdout",
     "output_type": "stream",
     "text": [
      "              Sub Category  Mean Discount Percentage\n",
      "0                    Basic                  0.000000\n",
      "1             BasicMobiles                  0.185556\n",
      "2                3DGlasses                  0.230000\n",
      "3          BatteryChargers                  0.250000\n",
      "4        BluetoothAdapters                  0.330000\n",
      "5   AVReceivers&Amplifiers                  0.360000\n",
      "6    AirPurifiers&Ionizers                  0.420000\n",
      "7                AirFryers                  0.440000\n",
      "8       BackgroundSupports                  0.460000\n",
      "9        BluetoothSpeakers                  0.485000\n",
      "10  Adapters&Multi-Outlets                  0.570000\n",
      "11      AutomobileChargers                  0.580000\n",
      "12              BasicCases                  0.707500\n",
      "13     Bedstand&DeskMounts                  0.745000\n",
      "14                Adapters                  0.803333\n"
     ]
    }
   ],
   "source": [
    "# sort the means in descending order\n",
    "mean_discount_by_sub_category = df.groupby('sub_category')['discount_percentage'].mean().head(15)\n",
    "mean_discount_by_sub_category = mean_discount_by_sub_category.sort_values(ascending=True)\n",
    "\n",
    "# create the horizontal bar chart\n",
    "plt.barh(mean_discount_by_sub_category.index, mean_discount_by_sub_category.values)\n",
    "plt.title('Discount Percentage by Sub Category')\n",
    "plt.xlabel('Discount Percentage')\n",
    "plt.ylabel('Sub Category')\n",
    "plt.show()\n",
    "\n",
    "table = pd.DataFrame({'Sub Category': mean_discount_by_sub_category.index, 'Mean Discount Percentage': mean_discount_by_sub_category.values})\n",
    "\n",
    "print(table)"
   ]
  },
  {
   "cell_type": "code",
   "execution_count": 144,
   "metadata": {},
   "outputs": [
    {
     "name": "stdout",
     "output_type": "stream",
     "text": [
      "      User ID  Frequency\n",
      "0        1045         10\n",
      "1         622          8\n",
      "2         673          8\n",
      "3         253          7\n",
      "4          87          7\n",
      "...       ...        ...\n",
      "1186      505          1\n",
      "1187       11          1\n",
      "1188      897          1\n",
      "1189      369          1\n",
      "1190      432          1\n",
      "\n",
      "[1191 rows x 2 columns]\n",
      "1045\n"
     ]
    }
   ],
   "source": [
    "le = LabelEncoder()\n",
    "df['user_id_encoded'] = le.fit_transform(df['user_id'])\n",
    "\n",
    "# Create a new dataframe with the user_id frequency table\n",
    "freq_table = pd.DataFrame({'User ID': df['user_id_encoded'].value_counts().index, 'Frequency': df['user_id_encoded'].value_counts().values})\n",
    "\n",
    "# Display the dataframe\n",
    "print(freq_table)\n",
    "id_example = freq_table.iloc[0,0]\n",
    "print(id_example)"
   ]
  },
  {
   "cell_type": "code",
   "execution_count": 145,
   "metadata": {},
   "outputs": [],
   "source": [
    "def recommend_products(df, user_id_encoded):\n",
    "    # Use TfidfVectorizer to transform the product descriptions into numerical feature vectors\n",
    "    tfidf = TfidfVectorizer(stop_words='english')\n",
    "    df['about_product'] = df['about_product'].fillna('')  # fill NaN values with empty string\n",
    "    tfidf_matrix = tfidf.fit_transform(df['about_product'])\n",
    "\n",
    "    # Get the purchase history for the user\n",
    "    user_history = df[df['user_id_encoded'] == user_id_encoded]\n",
    "\n",
    "    # Use cosine_similarity to calculate the similarity between each pair of product descriptions\n",
    "    # only for the products that the user has already purchased\n",
    "    indices = user_history.index.tolist()\n",
    "\n",
    "    if indices:\n",
    "        # Create a new similarity matrix with only the rows and columns for the purchased products\n",
    "        cosine_sim_user = cosine_similarity(tfidf_matrix[indices], tfidf_matrix)\n",
    "\n",
    "        # Create a pandas Series with product indices as the index and product names as the values\n",
    "        products = df.iloc[indices]['product_name']\n",
    "        indices = pd.Series(products.index, index=products)\n",
    "\n",
    "        # Get the indices and similarity scores of products similar to the ones the user has already purchased\n",
    "        similarity_scores = list(enumerate(cosine_sim_user[-1]))\n",
    "        similarity_scores = [(i, score) for (i, score) in similarity_scores if i not in indices]\n",
    "\n",
    "        # Sort the similarity scores in descending order\n",
    "        similarity_scores = sorted(similarity_scores, key=lambda x: x[1], reverse=True)\n",
    "\n",
    "        # Get the indices of the top 5 most similar products\n",
    "        top_products = [i[0] for i in similarity_scores[1:6]]\n",
    "\n",
    "        # Get the names of the top 5 most similar products\n",
    "        recommended_products = df.iloc[top_products]['product_name'].tolist()\n",
    "\n",
    "        # Get the reasons for the recommendation\n",
    "        score = [similarity_scores[i][1] for i in range(5)]\n",
    "\n",
    "        # Create a DataFrame with the results\n",
    "        results_df = pd.DataFrame({'Id Encoded': [user_id_encoded] * 5,\n",
    "                                   'recommended product': recommended_products,\n",
    "                                   'score recommendation': score})\n",
    "\n",
    "        return results_df\n",
    "\n",
    "    else:\n",
    "        print(\"No purchase history found.\")\n",
    "        return None"
   ]
  },
  {
   "cell_type": "code",
   "execution_count": 157,
   "metadata": {},
   "outputs": [
    {
     "data": {
      "text/html": [
       "<div>\n",
       "<style scoped>\n",
       "    .dataframe tbody tr th:only-of-type {\n",
       "        vertical-align: middle;\n",
       "    }\n",
       "\n",
       "    .dataframe tbody tr th {\n",
       "        vertical-align: top;\n",
       "    }\n",
       "\n",
       "    .dataframe thead th {\n",
       "        text-align: right;\n",
       "    }\n",
       "</style>\n",
       "<table border=\"1\" class=\"dataframe\">\n",
       "  <thead>\n",
       "    <tr style=\"text-align: right;\">\n",
       "      <th></th>\n",
       "      <th>Id Encoded</th>\n",
       "      <th>recommended product</th>\n",
       "      <th>score recommendation</th>\n",
       "    </tr>\n",
       "  </thead>\n",
       "  <tbody>\n",
       "    <tr>\n",
       "      <th>0</th>\n",
       "      <td>0</td>\n",
       "      <td>7SEVEN® Compatible Vu Smart Tv Remote Control ...</td>\n",
       "      <td>1.000000</td>\n",
       "    </tr>\n",
       "    <tr>\n",
       "      <th>1</th>\n",
       "      <td>0</td>\n",
       "      <td>Electvision Remote Control for led Smart tv Co...</td>\n",
       "      <td>0.314642</td>\n",
       "    </tr>\n",
       "    <tr>\n",
       "      <th>2</th>\n",
       "      <td>0</td>\n",
       "      <td>Sony TV - Remote Compatible for Sony LED Remot...</td>\n",
       "      <td>0.298038</td>\n",
       "    </tr>\n",
       "    <tr>\n",
       "      <th>3</th>\n",
       "      <td>0</td>\n",
       "      <td>7SEVEN® Compatible with Fire Tv Stick Remote w...</td>\n",
       "      <td>0.282251</td>\n",
       "    </tr>\n",
       "    <tr>\n",
       "      <th>4</th>\n",
       "      <td>0</td>\n",
       "      <td>LRIPL Mi Remote Control with Netflix &amp; Prime V...</td>\n",
       "      <td>0.257709</td>\n",
       "    </tr>\n",
       "  </tbody>\n",
       "</table>\n",
       "</div>"
      ],
      "text/plain": [
       "   Id Encoded                                recommended product  \\\n",
       "0           0  7SEVEN® Compatible Vu Smart Tv Remote Control ...   \n",
       "1           0  Electvision Remote Control for led Smart tv Co...   \n",
       "2           0  Sony TV - Remote Compatible for Sony LED Remot...   \n",
       "3           0  7SEVEN® Compatible with Fire Tv Stick Remote w...   \n",
       "4           0  LRIPL Mi Remote Control with Netflix & Prime V...   \n",
       "\n",
       "   score recommendation  \n",
       "0              1.000000  \n",
       "1              0.314642  \n",
       "2              0.298038  \n",
       "3              0.282251  \n",
       "4              0.257709  "
      ]
     },
     "execution_count": 157,
     "metadata": {},
     "output_type": "execute_result"
    }
   ],
   "source": [
    "recommend_products(df, 0)\n"
   ]
  },
  {
   "cell_type": "code",
   "execution_count": null,
   "metadata": {},
   "outputs": [],
   "source": []
  }
 ],
 "metadata": {
  "kernelspec": {
   "display_name": "Python 3",
   "language": "python",
   "name": "python3"
  },
  "language_info": {
   "codemirror_mode": {
    "name": "ipython",
    "version": 3
   },
   "file_extension": ".py",
   "mimetype": "text/x-python",
   "name": "python",
   "nbconvert_exporter": "python",
   "pygments_lexer": "ipython3",
   "version": "3.11.5"
  }
 },
 "nbformat": 4,
 "nbformat_minor": 2
}
